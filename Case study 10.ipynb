{
 "cells": [
  {
   "cell_type": "markdown",
   "id": "c032ad65",
   "metadata": {},
   "source": [
    "# Case Study on Probability for Data Science"
   ]
  },
  {
   "cell_type": "markdown",
   "id": "20567ea6",
   "metadata": {},
   "source": [
    "Problem Statement:\n",
    "    \n",
    "To make a suitable machine learning algorithm to predict if the mushroom is edible or poisonous (e or p) using the given dataset.\n",
    "\n",
    "(Along with other ML algorithms, Naïve Bayes’ Classifier should be applied) Also, if some data pre-processing is necessary do that as well\n",
    "\n",
    "__Attribute Information:__\n",
    "\n",
    "* cap-shape: bell=b, conical=c, convex=x, flat=f, knobbed=k, sunken=s\n",
    "* cap-surface: fibrous=f, grooves=g, scaly=y, smooth=s\n",
    "* cap-colour: brown=n, buff=b, cinnamon=c, Gray=g, green=r, pink=p, purple=u, red=e, white=w, yellow=y \n",
    "* bruises: bruises=t, no=f\n",
    "* odour: almond=a, anise=l, creosote=c, fishy=y, foul=f, musty=m, none=n,pungent=p, spicy=s\n",
    "* gill-attachment: attached=a, descending=d, free=f, notched=n\n",
    "* gill-spacing: close=c, crowded=w, distant=d\n",
    "* gill-size: broad=b, narrow=n\n",
    "* gill-colour: black=k, brown=n, buff=b, chocolate=h, grey=g, green=r, orange=o, pink=p, purple=u, red=e, white=w, yellow=y\n",
    "* stalk-shape: enlarging=e, tapering=t\n",
    "* Stalk-root: bulbous=b, club=c, cup=u, equal=e, rhizomorphs=z, rooted=r, missing=? \n",
    "* stalk-surface-above-ring: fibrous=f, scaly=y, silky=k, smooth=s\n",
    "* stalk-surface-below-ring: fibrous=f, scaly=y, silky=k, smooth=s \n"
   ]
  },
  {
   "cell_type": "code",
   "execution_count": 27,
   "id": "ceed72a8",
   "metadata": {},
   "outputs": [],
   "source": [
    "# Import libraries\n",
    "import pandas as pd\n",
    "import numpy as np\n",
    "import seaborn as sns\n",
    "import matplotlib.pyplot as plt"
   ]
  },
  {
   "cell_type": "code",
   "execution_count": 44,
   "id": "a508a0e0",
   "metadata": {},
   "outputs": [
    {
     "data": {
      "text/html": [
       "<div>\n",
       "<style scoped>\n",
       "    .dataframe tbody tr th:only-of-type {\n",
       "        vertical-align: middle;\n",
       "    }\n",
       "\n",
       "    .dataframe tbody tr th {\n",
       "        vertical-align: top;\n",
       "    }\n",
       "\n",
       "    .dataframe thead th {\n",
       "        text-align: right;\n",
       "    }\n",
       "</style>\n",
       "<table border=\"1\" class=\"dataframe\">\n",
       "  <thead>\n",
       "    <tr style=\"text-align: right;\">\n",
       "      <th></th>\n",
       "      <th>class</th>\n",
       "      <th>cap-shape</th>\n",
       "      <th>cap-surface</th>\n",
       "      <th>cap-color</th>\n",
       "      <th>bruises</th>\n",
       "      <th>odor</th>\n",
       "      <th>gill-attachment</th>\n",
       "      <th>gill-spacing</th>\n",
       "      <th>gill-size</th>\n",
       "      <th>gill-color</th>\n",
       "      <th>stalk-shape</th>\n",
       "      <th>stalk-root</th>\n",
       "      <th>stalk-surface-above-ring</th>\n",
       "      <th>stalk-surface-below-ring</th>\n",
       "      <th>stalk-color-above-ring</th>\n",
       "      <th>stalk-color-below-ring</th>\n",
       "      <th>veil-type</th>\n",
       "      <th>veil-color</th>\n",
       "      <th>ring-number</th>\n",
       "      <th>ring-type</th>\n",
       "      <th>spore-print-color</th>\n",
       "      <th>population</th>\n",
       "      <th>habitat</th>\n",
       "    </tr>\n",
       "  </thead>\n",
       "  <tbody>\n",
       "    <tr>\n",
       "      <th>0</th>\n",
       "      <td>p</td>\n",
       "      <td>x</td>\n",
       "      <td>s</td>\n",
       "      <td>n</td>\n",
       "      <td>t</td>\n",
       "      <td>p</td>\n",
       "      <td>f</td>\n",
       "      <td>c</td>\n",
       "      <td>n</td>\n",
       "      <td>k</td>\n",
       "      <td>e</td>\n",
       "      <td>e</td>\n",
       "      <td>s</td>\n",
       "      <td>s</td>\n",
       "      <td>w</td>\n",
       "      <td>w</td>\n",
       "      <td>p</td>\n",
       "      <td>w</td>\n",
       "      <td>o</td>\n",
       "      <td>p</td>\n",
       "      <td>k</td>\n",
       "      <td>s</td>\n",
       "      <td>u</td>\n",
       "    </tr>\n",
       "    <tr>\n",
       "      <th>1</th>\n",
       "      <td>e</td>\n",
       "      <td>x</td>\n",
       "      <td>s</td>\n",
       "      <td>y</td>\n",
       "      <td>t</td>\n",
       "      <td>a</td>\n",
       "      <td>f</td>\n",
       "      <td>c</td>\n",
       "      <td>b</td>\n",
       "      <td>k</td>\n",
       "      <td>e</td>\n",
       "      <td>c</td>\n",
       "      <td>s</td>\n",
       "      <td>s</td>\n",
       "      <td>w</td>\n",
       "      <td>w</td>\n",
       "      <td>p</td>\n",
       "      <td>w</td>\n",
       "      <td>o</td>\n",
       "      <td>p</td>\n",
       "      <td>n</td>\n",
       "      <td>n</td>\n",
       "      <td>g</td>\n",
       "    </tr>\n",
       "    <tr>\n",
       "      <th>2</th>\n",
       "      <td>e</td>\n",
       "      <td>b</td>\n",
       "      <td>s</td>\n",
       "      <td>w</td>\n",
       "      <td>t</td>\n",
       "      <td>l</td>\n",
       "      <td>f</td>\n",
       "      <td>c</td>\n",
       "      <td>b</td>\n",
       "      <td>n</td>\n",
       "      <td>e</td>\n",
       "      <td>c</td>\n",
       "      <td>s</td>\n",
       "      <td>s</td>\n",
       "      <td>w</td>\n",
       "      <td>w</td>\n",
       "      <td>p</td>\n",
       "      <td>w</td>\n",
       "      <td>o</td>\n",
       "      <td>p</td>\n",
       "      <td>n</td>\n",
       "      <td>n</td>\n",
       "      <td>m</td>\n",
       "    </tr>\n",
       "    <tr>\n",
       "      <th>3</th>\n",
       "      <td>p</td>\n",
       "      <td>x</td>\n",
       "      <td>y</td>\n",
       "      <td>w</td>\n",
       "      <td>t</td>\n",
       "      <td>p</td>\n",
       "      <td>f</td>\n",
       "      <td>c</td>\n",
       "      <td>n</td>\n",
       "      <td>n</td>\n",
       "      <td>e</td>\n",
       "      <td>e</td>\n",
       "      <td>s</td>\n",
       "      <td>s</td>\n",
       "      <td>w</td>\n",
       "      <td>w</td>\n",
       "      <td>p</td>\n",
       "      <td>w</td>\n",
       "      <td>o</td>\n",
       "      <td>p</td>\n",
       "      <td>k</td>\n",
       "      <td>s</td>\n",
       "      <td>u</td>\n",
       "    </tr>\n",
       "    <tr>\n",
       "      <th>4</th>\n",
       "      <td>e</td>\n",
       "      <td>x</td>\n",
       "      <td>s</td>\n",
       "      <td>g</td>\n",
       "      <td>f</td>\n",
       "      <td>n</td>\n",
       "      <td>f</td>\n",
       "      <td>w</td>\n",
       "      <td>b</td>\n",
       "      <td>k</td>\n",
       "      <td>t</td>\n",
       "      <td>e</td>\n",
       "      <td>s</td>\n",
       "      <td>s</td>\n",
       "      <td>w</td>\n",
       "      <td>w</td>\n",
       "      <td>p</td>\n",
       "      <td>w</td>\n",
       "      <td>o</td>\n",
       "      <td>e</td>\n",
       "      <td>n</td>\n",
       "      <td>a</td>\n",
       "      <td>g</td>\n",
       "    </tr>\n",
       "  </tbody>\n",
       "</table>\n",
       "</div>"
      ],
      "text/plain": [
       "  class cap-shape cap-surface cap-color bruises odor gill-attachment  \\\n",
       "0     p         x           s         n       t    p               f   \n",
       "1     e         x           s         y       t    a               f   \n",
       "2     e         b           s         w       t    l               f   \n",
       "3     p         x           y         w       t    p               f   \n",
       "4     e         x           s         g       f    n               f   \n",
       "\n",
       "  gill-spacing gill-size gill-color stalk-shape stalk-root  \\\n",
       "0            c         n          k           e          e   \n",
       "1            c         b          k           e          c   \n",
       "2            c         b          n           e          c   \n",
       "3            c         n          n           e          e   \n",
       "4            w         b          k           t          e   \n",
       "\n",
       "  stalk-surface-above-ring stalk-surface-below-ring stalk-color-above-ring  \\\n",
       "0                        s                        s                      w   \n",
       "1                        s                        s                      w   \n",
       "2                        s                        s                      w   \n",
       "3                        s                        s                      w   \n",
       "4                        s                        s                      w   \n",
       "\n",
       "  stalk-color-below-ring veil-type veil-color ring-number ring-type  \\\n",
       "0                      w         p          w           o         p   \n",
       "1                      w         p          w           o         p   \n",
       "2                      w         p          w           o         p   \n",
       "3                      w         p          w           o         p   \n",
       "4                      w         p          w           o         e   \n",
       "\n",
       "  spore-print-color population habitat  \n",
       "0                 k          s       u  \n",
       "1                 n          n       g  \n",
       "2                 n          n       m  \n",
       "3                 k          s       u  \n",
       "4                 n          a       g  "
      ]
     },
     "execution_count": 44,
     "metadata": {},
     "output_type": "execute_result"
    }
   ],
   "source": [
    "# Read the dataset \n",
    "mus_data=pd.read_csv('mushrooms.csv')\n",
    "pd.set_option('display.max_columns', None)\n",
    "mus_data.head()"
   ]
  },
  {
   "cell_type": "code",
   "execution_count": 46,
   "id": "0c9a719b",
   "metadata": {},
   "outputs": [
    {
     "data": {
      "text/plain": [
       "Index(['class', 'cap-shape', 'cap-surface', 'cap-color', 'bruises', 'odor',\n",
       "       'gill-attachment', 'gill-spacing', 'gill-size', 'gill-color',\n",
       "       'stalk-shape', 'stalk-root', 'stalk-surface-above-ring',\n",
       "       'stalk-surface-below-ring', 'stalk-color-above-ring',\n",
       "       'stalk-color-below-ring', 'veil-type', 'veil-color', 'ring-number',\n",
       "       'ring-type', 'spore-print-color', 'population', 'habitat'],\n",
       "      dtype='object')"
      ]
     },
     "execution_count": 46,
     "metadata": {},
     "output_type": "execute_result"
    }
   ],
   "source": [
    "mus_data.columns"
   ]
  },
  {
   "cell_type": "code",
   "execution_count": 45,
   "id": "46bc08da",
   "metadata": {},
   "outputs": [
    {
     "data": {
      "text/plain": [
       "(8124, 23)"
      ]
     },
     "execution_count": 45,
     "metadata": {},
     "output_type": "execute_result"
    }
   ],
   "source": [
    "mus_data.shape"
   ]
  },
  {
   "cell_type": "markdown",
   "id": "22dcdfb2",
   "metadata": {},
   "source": [
    "The dataset contain 8124 rows and 23 columns"
   ]
  },
  {
   "cell_type": "code",
   "execution_count": 47,
   "id": "6ef4f9d2",
   "metadata": {},
   "outputs": [
    {
     "data": {
      "text/plain": [
       "class                       object\n",
       "cap-shape                   object\n",
       "cap-surface                 object\n",
       "cap-color                   object\n",
       "bruises                     object\n",
       "odor                        object\n",
       "gill-attachment             object\n",
       "gill-spacing                object\n",
       "gill-size                   object\n",
       "gill-color                  object\n",
       "stalk-shape                 object\n",
       "stalk-root                  object\n",
       "stalk-surface-above-ring    object\n",
       "stalk-surface-below-ring    object\n",
       "stalk-color-above-ring      object\n",
       "stalk-color-below-ring      object\n",
       "veil-type                   object\n",
       "veil-color                  object\n",
       "ring-number                 object\n",
       "ring-type                   object\n",
       "spore-print-color           object\n",
       "population                  object\n",
       "habitat                     object\n",
       "dtype: object"
      ]
     },
     "execution_count": 47,
     "metadata": {},
     "output_type": "execute_result"
    }
   ],
   "source": [
    "mus_data.dtypes"
   ]
  },
  {
   "cell_type": "code",
   "execution_count": 8,
   "id": "2625c68d",
   "metadata": {},
   "outputs": [
    {
     "name": "stdout",
     "output_type": "stream",
     "text": [
      "<class 'pandas.core.frame.DataFrame'>\n",
      "RangeIndex: 8124 entries, 0 to 8123\n",
      "Data columns (total 23 columns):\n",
      " #   Column                    Non-Null Count  Dtype \n",
      "---  ------                    --------------  ----- \n",
      " 0   class                     8124 non-null   object\n",
      " 1   cap-shape                 8124 non-null   object\n",
      " 2   cap-surface               8124 non-null   object\n",
      " 3   cap-color                 8124 non-null   object\n",
      " 4   bruises                   8124 non-null   object\n",
      " 5   odor                      8124 non-null   object\n",
      " 6   gill-attachment           8124 non-null   object\n",
      " 7   gill-spacing              8124 non-null   object\n",
      " 8   gill-size                 8124 non-null   object\n",
      " 9   gill-color                8124 non-null   object\n",
      " 10  stalk-shape               8124 non-null   object\n",
      " 11  stalk-root                8124 non-null   object\n",
      " 12  stalk-surface-above-ring  8124 non-null   object\n",
      " 13  stalk-surface-below-ring  8124 non-null   object\n",
      " 14  stalk-color-above-ring    8124 non-null   object\n",
      " 15  stalk-color-below-ring    8124 non-null   object\n",
      " 16  veil-type                 8124 non-null   object\n",
      " 17  veil-color                8124 non-null   object\n",
      " 18  ring-number               8124 non-null   object\n",
      " 19  ring-type                 8124 non-null   object\n",
      " 20  spore-print-color         8124 non-null   object\n",
      " 21  population                8124 non-null   object\n",
      " 22  habitat                   8124 non-null   object\n",
      "dtypes: object(23)\n",
      "memory usage: 1.4+ MB\n"
     ]
    }
   ],
   "source": [
    "data.info()"
   ]
  },
  {
   "cell_type": "markdown",
   "id": "8f081f91",
   "metadata": {},
   "source": [
    "The dataset consists of 8124 training examples, each representing a single mushroom. The first column is the target variable containing the class labels, identifying whether the mushroom is poisonous or edible. The remaining columns are 22 discrete features that describe the mushroom in some observable way; their values are encoded by characters."
   ]
  },
  {
   "cell_type": "code",
   "execution_count": 48,
   "id": "c423bd6a",
   "metadata": {},
   "outputs": [
    {
     "data": {
      "text/plain": [
       "class                       0\n",
       "cap-shape                   0\n",
       "cap-surface                 0\n",
       "cap-color                   0\n",
       "bruises                     0\n",
       "odor                        0\n",
       "gill-attachment             0\n",
       "gill-spacing                0\n",
       "gill-size                   0\n",
       "gill-color                  0\n",
       "stalk-shape                 0\n",
       "stalk-root                  0\n",
       "stalk-surface-above-ring    0\n",
       "stalk-surface-below-ring    0\n",
       "stalk-color-above-ring      0\n",
       "stalk-color-below-ring      0\n",
       "veil-type                   0\n",
       "veil-color                  0\n",
       "ring-number                 0\n",
       "ring-type                   0\n",
       "spore-print-color           0\n",
       "population                  0\n",
       "habitat                     0\n",
       "dtype: int64"
      ]
     },
     "execution_count": 48,
     "metadata": {},
     "output_type": "execute_result"
    }
   ],
   "source": [
    "# Checking for null values\n",
    "mus_data.isnull().sum()"
   ]
  },
  {
   "cell_type": "markdown",
   "id": "972a2b7e",
   "metadata": {},
   "source": [
    "No null values present"
   ]
  },
  {
   "cell_type": "code",
   "execution_count": 49,
   "id": "8565efb2",
   "metadata": {},
   "outputs": [
    {
     "data": {
      "text/plain": [
       "0"
      ]
     },
     "execution_count": 49,
     "metadata": {},
     "output_type": "execute_result"
    }
   ],
   "source": [
    "# Checking for duplicate values\n",
    "mus_data.duplicated().sum()"
   ]
  },
  {
   "cell_type": "markdown",
   "id": "a4c69e8c",
   "metadata": {},
   "source": [
    "No duplicate values present"
   ]
  },
  {
   "cell_type": "code",
   "execution_count": 50,
   "id": "01ec90a7",
   "metadata": {},
   "outputs": [
    {
     "data": {
      "text/html": [
       "<div>\n",
       "<style scoped>\n",
       "    .dataframe tbody tr th:only-of-type {\n",
       "        vertical-align: middle;\n",
       "    }\n",
       "\n",
       "    .dataframe tbody tr th {\n",
       "        vertical-align: top;\n",
       "    }\n",
       "\n",
       "    .dataframe thead th {\n",
       "        text-align: right;\n",
       "    }\n",
       "</style>\n",
       "<table border=\"1\" class=\"dataframe\">\n",
       "  <thead>\n",
       "    <tr style=\"text-align: right;\">\n",
       "      <th></th>\n",
       "      <th>class</th>\n",
       "      <th>cap-shape</th>\n",
       "      <th>cap-surface</th>\n",
       "      <th>cap-color</th>\n",
       "      <th>bruises</th>\n",
       "      <th>odor</th>\n",
       "      <th>gill-attachment</th>\n",
       "      <th>gill-spacing</th>\n",
       "      <th>gill-size</th>\n",
       "      <th>gill-color</th>\n",
       "      <th>stalk-shape</th>\n",
       "      <th>stalk-root</th>\n",
       "      <th>stalk-surface-above-ring</th>\n",
       "      <th>stalk-surface-below-ring</th>\n",
       "      <th>stalk-color-above-ring</th>\n",
       "      <th>stalk-color-below-ring</th>\n",
       "      <th>veil-type</th>\n",
       "      <th>veil-color</th>\n",
       "      <th>ring-number</th>\n",
       "      <th>ring-type</th>\n",
       "      <th>spore-print-color</th>\n",
       "      <th>population</th>\n",
       "      <th>habitat</th>\n",
       "    </tr>\n",
       "  </thead>\n",
       "  <tbody>\n",
       "    <tr>\n",
       "      <th>count</th>\n",
       "      <td>8124</td>\n",
       "      <td>8124</td>\n",
       "      <td>8124</td>\n",
       "      <td>8124</td>\n",
       "      <td>8124</td>\n",
       "      <td>8124</td>\n",
       "      <td>8124</td>\n",
       "      <td>8124</td>\n",
       "      <td>8124</td>\n",
       "      <td>8124</td>\n",
       "      <td>8124</td>\n",
       "      <td>8124</td>\n",
       "      <td>8124</td>\n",
       "      <td>8124</td>\n",
       "      <td>8124</td>\n",
       "      <td>8124</td>\n",
       "      <td>8124</td>\n",
       "      <td>8124</td>\n",
       "      <td>8124</td>\n",
       "      <td>8124</td>\n",
       "      <td>8124</td>\n",
       "      <td>8124</td>\n",
       "      <td>8124</td>\n",
       "    </tr>\n",
       "    <tr>\n",
       "      <th>unique</th>\n",
       "      <td>2</td>\n",
       "      <td>6</td>\n",
       "      <td>4</td>\n",
       "      <td>10</td>\n",
       "      <td>2</td>\n",
       "      <td>9</td>\n",
       "      <td>2</td>\n",
       "      <td>2</td>\n",
       "      <td>2</td>\n",
       "      <td>12</td>\n",
       "      <td>2</td>\n",
       "      <td>5</td>\n",
       "      <td>4</td>\n",
       "      <td>4</td>\n",
       "      <td>9</td>\n",
       "      <td>9</td>\n",
       "      <td>1</td>\n",
       "      <td>4</td>\n",
       "      <td>3</td>\n",
       "      <td>5</td>\n",
       "      <td>9</td>\n",
       "      <td>6</td>\n",
       "      <td>7</td>\n",
       "    </tr>\n",
       "    <tr>\n",
       "      <th>top</th>\n",
       "      <td>e</td>\n",
       "      <td>x</td>\n",
       "      <td>y</td>\n",
       "      <td>n</td>\n",
       "      <td>f</td>\n",
       "      <td>n</td>\n",
       "      <td>f</td>\n",
       "      <td>c</td>\n",
       "      <td>b</td>\n",
       "      <td>b</td>\n",
       "      <td>t</td>\n",
       "      <td>b</td>\n",
       "      <td>s</td>\n",
       "      <td>s</td>\n",
       "      <td>w</td>\n",
       "      <td>w</td>\n",
       "      <td>p</td>\n",
       "      <td>w</td>\n",
       "      <td>o</td>\n",
       "      <td>p</td>\n",
       "      <td>w</td>\n",
       "      <td>v</td>\n",
       "      <td>d</td>\n",
       "    </tr>\n",
       "    <tr>\n",
       "      <th>freq</th>\n",
       "      <td>4208</td>\n",
       "      <td>3656</td>\n",
       "      <td>3244</td>\n",
       "      <td>2284</td>\n",
       "      <td>4748</td>\n",
       "      <td>3528</td>\n",
       "      <td>7914</td>\n",
       "      <td>6812</td>\n",
       "      <td>5612</td>\n",
       "      <td>1728</td>\n",
       "      <td>4608</td>\n",
       "      <td>3776</td>\n",
       "      <td>5176</td>\n",
       "      <td>4936</td>\n",
       "      <td>4464</td>\n",
       "      <td>4384</td>\n",
       "      <td>8124</td>\n",
       "      <td>7924</td>\n",
       "      <td>7488</td>\n",
       "      <td>3968</td>\n",
       "      <td>2388</td>\n",
       "      <td>4040</td>\n",
       "      <td>3148</td>\n",
       "    </tr>\n",
       "  </tbody>\n",
       "</table>\n",
       "</div>"
      ],
      "text/plain": [
       "       class cap-shape cap-surface cap-color bruises  odor gill-attachment  \\\n",
       "count   8124      8124        8124      8124    8124  8124            8124   \n",
       "unique     2         6           4        10       2     9               2   \n",
       "top        e         x           y         n       f     n               f   \n",
       "freq    4208      3656        3244      2284    4748  3528            7914   \n",
       "\n",
       "       gill-spacing gill-size gill-color stalk-shape stalk-root  \\\n",
       "count          8124      8124       8124        8124       8124   \n",
       "unique            2         2         12           2          5   \n",
       "top               c         b          b           t          b   \n",
       "freq           6812      5612       1728        4608       3776   \n",
       "\n",
       "       stalk-surface-above-ring stalk-surface-below-ring  \\\n",
       "count                      8124                     8124   \n",
       "unique                        4                        4   \n",
       "top                           s                        s   \n",
       "freq                       5176                     4936   \n",
       "\n",
       "       stalk-color-above-ring stalk-color-below-ring veil-type veil-color  \\\n",
       "count                    8124                   8124      8124       8124   \n",
       "unique                      9                      9         1          4   \n",
       "top                         w                      w         p          w   \n",
       "freq                     4464                   4384      8124       7924   \n",
       "\n",
       "       ring-number ring-type spore-print-color population habitat  \n",
       "count         8124      8124              8124       8124    8124  \n",
       "unique           3         5                 9          6       7  \n",
       "top              o         p                 w          v       d  \n",
       "freq          7488      3968              2388       4040    3148  "
      ]
     },
     "execution_count": 50,
     "metadata": {},
     "output_type": "execute_result"
    }
   ],
   "source": [
    "mus_data.describe(include='all')"
   ]
  },
  {
   "cell_type": "code",
   "execution_count": 51,
   "id": "b8e03289",
   "metadata": {},
   "outputs": [
    {
     "name": "stdout",
     "output_type": "stream",
     "text": [
      "class\n",
      "e    4208\n",
      "p    3916\n",
      "Name: class, dtype: int64\n",
      "---------------------------------------------------------------\n",
      "cap-shape\n",
      "x    3656\n",
      "f    3152\n",
      "k     828\n",
      "b     452\n",
      "s      32\n",
      "c       4\n",
      "Name: cap-shape, dtype: int64\n",
      "---------------------------------------------------------------\n",
      "cap-surface\n",
      "y    3244\n",
      "s    2556\n",
      "f    2320\n",
      "g       4\n",
      "Name: cap-surface, dtype: int64\n",
      "---------------------------------------------------------------\n",
      "cap-color\n",
      "n    2284\n",
      "g    1840\n",
      "e    1500\n",
      "y    1072\n",
      "w    1040\n",
      "b     168\n",
      "p     144\n",
      "c      44\n",
      "u      16\n",
      "r      16\n",
      "Name: cap-color, dtype: int64\n",
      "---------------------------------------------------------------\n",
      "bruises\n",
      "f    4748\n",
      "t    3376\n",
      "Name: bruises, dtype: int64\n",
      "---------------------------------------------------------------\n",
      "odor\n",
      "n    3528\n",
      "f    2160\n",
      "s     576\n",
      "y     576\n",
      "l     400\n",
      "a     400\n",
      "p     256\n",
      "c     192\n",
      "m      36\n",
      "Name: odor, dtype: int64\n",
      "---------------------------------------------------------------\n",
      "gill-attachment\n",
      "f    7914\n",
      "a     210\n",
      "Name: gill-attachment, dtype: int64\n",
      "---------------------------------------------------------------\n",
      "gill-spacing\n",
      "c    6812\n",
      "w    1312\n",
      "Name: gill-spacing, dtype: int64\n",
      "---------------------------------------------------------------\n",
      "gill-size\n",
      "b    5612\n",
      "n    2512\n",
      "Name: gill-size, dtype: int64\n",
      "---------------------------------------------------------------\n",
      "gill-color\n",
      "b    1728\n",
      "p    1492\n",
      "w    1202\n",
      "n    1048\n",
      "g     752\n",
      "h     732\n",
      "u     492\n",
      "k     408\n",
      "e      96\n",
      "y      86\n",
      "o      64\n",
      "r      24\n",
      "Name: gill-color, dtype: int64\n",
      "---------------------------------------------------------------\n",
      "stalk-shape\n",
      "t    4608\n",
      "e    3516\n",
      "Name: stalk-shape, dtype: int64\n",
      "---------------------------------------------------------------\n",
      "stalk-root\n",
      "b    6256\n",
      "e    1120\n",
      "c     556\n",
      "r     192\n",
      "Name: stalk-root, dtype: int64\n",
      "---------------------------------------------------------------\n",
      "stalk-surface-above-ring\n",
      "s    5176\n",
      "k    2372\n",
      "f     552\n",
      "y      24\n",
      "Name: stalk-surface-above-ring, dtype: int64\n",
      "---------------------------------------------------------------\n",
      "stalk-surface-below-ring\n",
      "s    4936\n",
      "k    2304\n",
      "f     600\n",
      "y     284\n",
      "Name: stalk-surface-below-ring, dtype: int64\n",
      "---------------------------------------------------------------\n",
      "stalk-color-above-ring\n",
      "w    4464\n",
      "p    1872\n",
      "g     576\n",
      "n     448\n",
      "b     432\n",
      "o     192\n",
      "e      96\n",
      "c      36\n",
      "y       8\n",
      "Name: stalk-color-above-ring, dtype: int64\n",
      "---------------------------------------------------------------\n",
      "stalk-color-below-ring\n",
      "w    4384\n",
      "p    1872\n",
      "g     576\n",
      "n     512\n",
      "b     432\n",
      "o     192\n",
      "e      96\n",
      "c      36\n",
      "y      24\n",
      "Name: stalk-color-below-ring, dtype: int64\n",
      "---------------------------------------------------------------\n",
      "veil-type\n",
      "p    8124\n",
      "Name: veil-type, dtype: int64\n",
      "---------------------------------------------------------------\n",
      "veil-color\n",
      "w    7924\n",
      "n      96\n",
      "o      96\n",
      "y       8\n",
      "Name: veil-color, dtype: int64\n",
      "---------------------------------------------------------------\n",
      "ring-number\n",
      "o    7488\n",
      "t     600\n",
      "n      36\n",
      "Name: ring-number, dtype: int64\n",
      "---------------------------------------------------------------\n",
      "ring-type\n",
      "p    3968\n",
      "e    2776\n",
      "l    1296\n",
      "f      48\n",
      "n      36\n",
      "Name: ring-type, dtype: int64\n",
      "---------------------------------------------------------------\n",
      "spore-print-color\n",
      "w    2388\n",
      "n    1968\n",
      "k    1872\n",
      "h    1632\n",
      "r      72\n",
      "b      48\n",
      "u      48\n",
      "o      48\n",
      "y      48\n",
      "Name: spore-print-color, dtype: int64\n",
      "---------------------------------------------------------------\n",
      "population\n",
      "v    4040\n",
      "y    1712\n",
      "s    1248\n",
      "n     400\n",
      "a     384\n",
      "c     340\n",
      "Name: population, dtype: int64\n",
      "---------------------------------------------------------------\n",
      "habitat\n",
      "d    3148\n",
      "g    2148\n",
      "p    1144\n",
      "l     832\n",
      "u     368\n",
      "m     292\n",
      "w     192\n",
      "Name: habitat, dtype: int64\n",
      "---------------------------------------------------------------\n"
     ]
    }
   ],
   "source": [
    "# Checking for any error values\n",
    "for i in mus_data.columns:\n",
    "    print(i)\n",
    "    print(data[i].value_counts())\n",
    "    print(\"---------------------------------------------------------------\")"
   ]
  },
  {
   "cell_type": "markdown",
   "id": "b4084969",
   "metadata": {},
   "source": [
    "There is a '?' symbol in stalk-root which means it is missing\n"
   ]
  },
  {
   "cell_type": "code",
   "execution_count": 52,
   "id": "aa31a62c",
   "metadata": {},
   "outputs": [],
   "source": [
    "# We can either drop the 'stalk-root' columns or give mode value to them.\n",
    "m = mus_data['stalk-root'].mode()[0]"
   ]
  },
  {
   "cell_type": "code",
   "execution_count": 53,
   "id": "b497cdad",
   "metadata": {},
   "outputs": [],
   "source": [
    "# Assigning mode value to the '?' symbol\n",
    "mus_data['stalk-root'] = data['stalk-root'].replace(to_replace=\"?\", value=m)"
   ]
  },
  {
   "cell_type": "code",
   "execution_count": 54,
   "id": "05613480",
   "metadata": {},
   "outputs": [
    {
     "data": {
      "text/plain": [
       "b    6256\n",
       "e    1120\n",
       "c     556\n",
       "r     192\n",
       "Name: stalk-root, dtype: int64"
      ]
     },
     "execution_count": 54,
     "metadata": {},
     "output_type": "execute_result"
    }
   ],
   "source": [
    "mus_data['stalk-root'].value_counts()"
   ]
  },
  {
   "cell_type": "markdown",
   "id": "33ff40a4",
   "metadata": {},
   "source": [
    "## Data Visualization"
   ]
  },
  {
   "cell_type": "code",
   "execution_count": 55,
   "id": "6e89b0a1",
   "metadata": {},
   "outputs": [
    {
     "data": {
      "image/png": "[encoded data removed]",
      "text/plain": [
       "<Figure size 576x576 with 1 Axes>"
      ]
     },
     "metadata": {},
     "output_type": "display_data"
    }
   ],
   "source": [
    "plt.figure(figsize=(8,8))\n",
    "plt.title(\"Distribution of types of mushrooms\",fontsize=15)\n",
    "plt.pie(mus_data['class'].value_counts(), labels = ['Edible', 'Poisonous'], autopct='%.0f%%',textprops={'fontsize': 12})\n",
    "plt.legend(('Edible', 'Poisonous'),loc=\"upper right\",fontsize='large')\n",
    "plt.show()"
   ]
  },
  {
   "cell_type": "markdown",
   "id": "696681c5",
   "metadata": {},
   "source": [
    "From pie chart we can say that almost equal number of edible and poisonous mushrooms are there in dataset."
   ]
  },
  {
   "cell_type": "code",
   "execution_count": 58,
   "id": "6942ff7d",
   "metadata": {},
   "outputs": [
    {
     "data": {
      "image/png": "[encoded data removed]",
      "text/plain": [
       "<Figure size 1152x1152 with 4 Axes>"
      ]
     },
     "metadata": {
      "needs_background": "light"
     },
     "output_type": "display_data"
    }
   ],
   "source": [
    "fig = plt.figure(figsize=(16,16))\n",
    "plt.suptitle(\"Color characteristics\",fontsize=15)\n",
    "fig.tight_layout(pad=2)\n",
    "plt.subplot(2,2,1)\n",
    "plt.title(\"Gill - color classification based on target\")\n",
    "sns.histplot(data=mus_data, x=\"gill-color\", hue=\"class\", kde=False,palette = ['#B8405E','#219F94'])\n",
    "plt.legend(('Edible','Poisonous'),loc=\"upper right\",fontsize='large')\n",
    "plt.xlabel('gill-color',fontsize=12)\n",
    "plt.ylabel('Count',fontsize=12)\n",
    "\n",
    "plt.subplot(2,2,2)\n",
    "plt.title(\"cap-color classification based on target\")\n",
    "sns.histplot(data=mus_data, x=\"cap-color\", hue=\"class\", kde=False,palette = ['#B8405E','#219F94'])\n",
    "plt.legend(('Edible','Poisonous'),loc=\"upper right\",fontsize='large')\n",
    "plt.xlabel('cap-color',fontsize=12)\n",
    "plt.ylabel('Count',fontsize=12)\n",
    "\n",
    "plt.subplot(2,2,3)\n",
    "plt.title(\"veil-color classification based on target\")\n",
    "sns.histplot(data=mus_data, x=\"veil-color\", hue=\"class\", kde=False,palette = ['#B8405E','#219F94'])\n",
    "plt.legend(('Edible','Poisonous'),loc=\"upper right\",fontsize='large')\n",
    "plt.xlabel('veil-color',fontsize=12)\n",
    "plt.ylabel('Count',fontsize=12)\n",
    "\n",
    "plt.subplot(2,2,4)\n",
    "plt.title(\"spore-print-color classification based on target\")\n",
    "sns.histplot(data=mus_data, x=\"spore-print-color\", hue=\"class\", kde=False,palette = ['#B8405E','#219F94'])\n",
    "plt.legend(('Edible','Poisonous'),loc=\"upper right\",fontsize='large')\n",
    "plt.xlabel('spore-print-color',fontsize=12)\n",
    "plt.ylabel('Count',fontsize=12)\n",
    "\n",
    "plt.show()"
   ]
  },
  {
   "cell_type": "markdown",
   "id": "7de0c9df",
   "metadata": {},
   "source": [
    "__gill-colour__ : black=k, brown=n, buff=b, chocolate=h, grey=g, green=r, orange=o, pink=p, purple=u, red=e, white=w, yellow=y\n",
    "\n",
    "__cap-colour__ : brown=n, buff=b, cinnamon=c, Gray=g, green=r, pink=p, purple=u, red=e, white=w, yellow=y\n",
    "\n",
    "__veil-colour__ : brown=n, orange=o, white=w, yellow=y\n",
    "\n",
    "__spore-print-colour__ : black=k, brown=n, buff=b, chocolate=h, green=r, orange=o, purple=u, white=w, yellow=y\n",
    "\n",
    "\n",
    "From the graphs\n",
    "* Poisonous mushrooms mostly contains Buff gill color and other colors in small numbers.\n",
    "* Cap color is almost same for both the two types.\n",
    "* Poisonous mushrooms dont have brown and orange veil colors.\n",
    "* Poisonous mushrooms usually have chocolate, white, green colored spores on them."
   ]
  },
  {
   "cell_type": "code",
   "execution_count": 60,
   "id": "78ec9eba",
   "metadata": {},
   "outputs": [
    {
     "data": {
      "image/png": "[encoded data removed]",
      "text/plain": [
       "<Figure size 576x576 with 1 Axes>"
      ]
     },
     "metadata": {
      "needs_background": "light"
     },
     "output_type": "display_data"
    }
   ],
   "source": [
    "plt.figure(figsize=(8,8))\n",
    "plt.title(\"habitat classification based on target\")\n",
    "sns.histplot(data=mus_data, x=\"habitat\", hue=\"class\", kde=False)\n",
    "plt.legend(('Edible','Poisonous'),loc=\"upper right\",fontsize='large')\n",
    "plt.xlabel('habitat',fontsize=12)\n",
    "plt.ylabel('Count',fontsize=12)\n",
    "plt.show()"
   ]
  },
  {
   "cell_type": "markdown",
   "id": "7c340374",
   "metadata": {},
   "source": [
    "habitat: grasses=g, leaves=l, meadows=m, paths=p, urban=u, waste=w, woods=d"
   ]
  },
  {
   "cell_type": "markdown",
   "id": "9994b2c9",
   "metadata": {},
   "source": [
    "* Poisonous mushrooms are usually found in urban, leaves, and on paths."
   ]
  },
  {
   "cell_type": "code",
   "execution_count": 62,
   "id": "8b074024",
   "metadata": {},
   "outputs": [
    {
     "data": {
      "image/png": "[encoded data removed]",
      "text/plain": [
       "<Figure size 1152x1152 with 4 Axes>"
      ]
     },
     "metadata": {
      "needs_background": "light"
     },
     "output_type": "display_data"
    }
   ],
   "source": [
    "fig = plt.figure(figsize=(16,16))\n",
    "plt.suptitle(\"Size characteristics\",fontsize=15)\n",
    "fig.tight_layout(pad=2)\n",
    "plt.subplot(2,2,1)\n",
    "plt.title(\"cap-shape classification based on target\")\n",
    "sns.histplot(data=mus_data, x=\"cap-shape\", hue=\"class\", kde=False,palette = ['#B8405E','#219F94'])\n",
    "plt.legend(('Edible','Poisonous'),loc=\"upper right\",fontsize='large')\n",
    "plt.xlabel('cap-shape',fontsize=12)\n",
    "plt.ylabel('Count',fontsize=12)\n",
    "\n",
    "plt.subplot(2,2,2)\n",
    "plt.title(\"ring-type classification based on target\")\n",
    "sns.histplot(data=mus_data, x=\"ring-type\", hue=\"class\", kde=False)\n",
    "plt.legend(('Edible','Poisonous'),loc=\"upper right\",fontsize='large')\n",
    "plt.xlabel('ring-type',fontsize=12)\n",
    "plt.ylabel('Count',fontsize=12)\n",
    "\n",
    "plt.subplot(2,2,3)\n",
    "plt.title(\"gill-size classification based on target\")\n",
    "sns.histplot(data=mus_data, x=\"gill-size\", hue=\"class\", kde=False)\n",
    "plt.legend(('Edible','Poisonous'),loc=\"upper right\",fontsize='large')\n",
    "plt.xlabel('gill-size',fontsize=12)\n",
    "plt.ylabel('Count',fontsize=12)\n",
    "\n",
    "plt.subplot(2,2,4)\n",
    "plt.title(\"stalk-shape classification based on target\")\n",
    "sns.histplot(data=mus_data, x=\"stalk-shape\", hue=\"class\", kde=False)\n",
    "plt.legend(('Edible','Poisonous'),loc=\"upper right\",fontsize='large')\n",
    "plt.xlabel('stalk-shape',fontsize=12)\n",
    "plt.ylabel('Count',fontsize=12)\n",
    "\n",
    "plt.show()"
   ]
  },
  {
   "cell_type": "markdown",
   "id": "d8d1e04d",
   "metadata": {},
   "source": [
    "__cap-shape__ : bell=b, conical=c, convex=x, flat=f, knobbed=k, sunken=s\n",
    "\n",
    "__ring-type__ : cobwebby=c, evanescent=e, flaring=f, large=l, none=n, pendant=p, sheathing=s, zone=z\n",
    "\n",
    "__gill-size__ : broad=b, narrow=n\n",
    "\n",
    "__stalk-shape__ : enlarging=e, tapering=t\n",
    "\n",
    "From graph:\n",
    "\n",
    "* Poisonous mushrooms are usually seen with flat and knobbed cap shapes.\n",
    "* Edible mushrooms are having pendant, evanescent, flaring ring types.\n",
    "* Edible mushrooms usually have broad gill size whereas Poison ones are having narrow gill size.\n",
    "* Both types of mushrooms are almost equally seen with enlarging and tapering stalk."
   ]
  },
  {
   "cell_type": "markdown",
   "id": "e10ed122",
   "metadata": {},
   "source": [
    "## Label Encoding"
   ]
  },
  {
   "cell_type": "code",
   "execution_count": 65,
   "id": "3afd3df0",
   "metadata": {},
   "outputs": [],
   "source": [
    "# Label Encoder\n",
    "from sklearn.preprocessing import LabelEncoder\n",
    "labelencoder = LabelEncoder()\n",
    "for column in mus_data.columns:\n",
    "    mus_data[column] = labelencoder.fit_transform(mus_data[column])"
   ]
  },
  {
   "cell_type": "code",
   "execution_count": 66,
   "id": "5d798773",
   "metadata": {},
   "outputs": [],
   "source": [
    "# Assigning x and y\n",
    "x = mus_data.drop(['class'],axis=1)\n",
    "y = mus_data['class']"
   ]
  },
  {
   "cell_type": "code",
   "execution_count": 67,
   "id": "6a70d92b",
   "metadata": {},
   "outputs": [],
   "source": [
    "## Data spliting\n",
    "from sklearn.model_selection import train_test_split\n",
    "x_train,x_test,y_train,y_test=train_test_split(x,y,random_state=42,test_size=0.2)"
   ]
  },
  {
   "cell_type": "markdown",
   "id": "19622259",
   "metadata": {},
   "source": [
    "## Classification Methods"
   ]
  },
  {
   "cell_type": "code",
   "execution_count": 68,
   "id": "4ed43570",
   "metadata": {},
   "outputs": [],
   "source": [
    "accl=[]"
   ]
  },
  {
   "cell_type": "markdown",
   "id": "5413dda8",
   "metadata": {},
   "source": [
    "## Logistic Regression"
   ]
  },
  {
   "cell_type": "code",
   "execution_count": 69,
   "id": "71fe9e63",
   "metadata": {},
   "outputs": [
    {
     "name": "stderr",
     "output_type": "stream",
     "text": [
      "C:\\Users\\USER\\anaconda3\\lib\\site-packages\\sklearn\\linear_model\\_logistic.py:763: ConvergenceWarning: lbfgs failed to converge (status=1):\n",
      "STOP: TOTAL NO. of ITERATIONS REACHED LIMIT.\n",
      "\n",
      "Increase the number of iterations (max_iter) or scale the data as shown in:\n",
      "    https://scikit-learn.org/stable/modules/preprocessing.html\n",
      "Please also refer to the documentation for alternative solver options:\n",
      "    https://scikit-learn.org/stable/modules/linear_model.html#logistic-regression\n",
      "  n_iter_i = _check_optimize_result(\n"
     ]
    }
   ],
   "source": [
    "from sklearn.linear_model import LogisticRegression\n",
    "lr=LogisticRegression()\n",
    "lr.fit(x_train,y_train)\n",
    "y_pred=lr.predict(x_test)"
   ]
  },
  {
   "cell_type": "code",
   "execution_count": 70,
   "id": "0cebeae6",
   "metadata": {},
   "outputs": [
    {
     "name": "stdout",
     "output_type": "stream",
     "text": [
      "accuracy is : 0.9538461538461539\n",
      "F1 - score : 0.9521988527724665\n"
     ]
    }
   ],
   "source": [
    "from sklearn.metrics import confusion_matrix,accuracy_score,f1_score\n",
    "\n",
    "print(\"accuracy is :\",accuracy_score(y_test,y_pred))\n",
    "print(\"F1 - score :\",f1_score(y_test,y_pred))\n",
    "accl.append(['Logistic Regression',round(accuracy_score(y_test,y_pred),2)])"
   ]
  },
  {
   "cell_type": "code",
   "execution_count": 71,
   "id": "561d41df",
   "metadata": {},
   "outputs": [
    {
     "data": {
      "text/plain": [
       "array([[803,  40],\n",
       "       [ 35, 747]], dtype=int64)"
      ]
     },
     "execution_count": 71,
     "metadata": {},
     "output_type": "execute_result"
    }
   ],
   "source": [
    "confusion_matrix(y_test,y_pred)"
   ]
  },
  {
   "cell_type": "code",
   "execution_count": 72,
   "id": "58c628cd",
   "metadata": {},
   "outputs": [
    {
     "data": {
      "image/png": "[encoded data removed]",
      "text/plain": [
       "<Figure size 504x504 with 2 Axes>"
      ]
     },
     "metadata": {
      "needs_background": "light"
     },
     "output_type": "display_data"
    }
   ],
   "source": [
    "cm = confusion_matrix(y_test, y_pred)\n",
    "x_axis_labels = [\"Edible\", \"Poisonous\"]\n",
    "y_axis_labels = [\"Edible\", \"Poisonous\"]\n",
    "f, ax = plt.subplots(figsize =(7,7))\n",
    "sns.heatmap(cm, annot = True, linewidths=0.2, linecolor=\"black\", fmt = \".0f\", ax=ax, cmap=\"Purples\", xticklabels=x_axis_labels, yticklabels=y_axis_labels)\n",
    "plt.xlabel(\"PREDICTED LABEL\")\n",
    "plt.ylabel(\"TRUE LABEL\")\n",
    "plt.title('Confusion Matrix for Logistic Regression Classifier')\n",
    "#plt.savefig(\"lrcm.png\", format='png', dpi=500, bbox_inches='tight')\n",
    "plt.show()"
   ]
  },
  {
   "cell_type": "markdown",
   "id": "f8509ecf",
   "metadata": {},
   "source": [
    "## KNN"
   ]
  },
  {
   "cell_type": "code",
   "execution_count": 73,
   "id": "73893ff8",
   "metadata": {},
   "outputs": [],
   "source": [
    "from sklearn.neighbors import KNeighborsClassifier\n",
    "acc_val=[]\n",
    "neighbors=np.arange(3,15)\n",
    "for k in neighbors:\n",
    "    knn=KNeighborsClassifier(n_neighbors=k,metric='minkowski')\n",
    "    knn.fit(x_train,y_train)\n",
    "    y_pred=knn.predict(x_test)\n",
    "    acc=accuracy_score(y_test,y_pred)\n",
    "    acc_val.append(acc)"
   ]
  },
  {
   "cell_type": "code",
   "execution_count": 74,
   "id": "5c284927",
   "metadata": {},
   "outputs": [
    {
     "data": {
      "text/plain": [
       "Text(0, 0.5, 'accuracy')"
      ]
     },
     "execution_count": 74,
     "metadata": {},
     "output_type": "execute_result"
    },
    {
     "data": {
      "image/png": "[encoded data removed]",
      "text/plain": [
       "<Figure size 432x288 with 1 Axes>"
      ]
     },
     "metadata": {
      "needs_background": "light"
     },
     "output_type": "display_data"
    }
   ],
   "source": [
    "plt.plot(neighbors,acc_val,'o-')\n",
    "plt.xlabel('k values')\n",
    "plt.ylabel(\"accuracy\")"
   ]
  },
  {
   "cell_type": "code",
   "execution_count": 75,
   "id": "6a12c107",
   "metadata": {},
   "outputs": [],
   "source": [
    "knn=KNeighborsClassifier(n_neighbors=2,metric='minkowski')\n",
    "knn.fit(x_train,y_train)\n",
    "y_pred=knn.predict(x_test)"
   ]
  },
  {
   "cell_type": "code",
   "execution_count": 76,
   "id": "456f1c10",
   "metadata": {},
   "outputs": [
    {
     "name": "stdout",
     "output_type": "stream",
     "text": [
      "accuracy is : 0.9993846153846154\n",
      "F1 - score : 0.9993610223642173\n"
     ]
    }
   ],
   "source": [
    "print(\"accuracy is :\",accuracy_score(y_test,y_pred))\n",
    "print(\"F1 - score :\",f1_score(y_test,y_pred))\n",
    "accl.append(['KNN',round(accuracy_score(y_test,y_pred),2)])"
   ]
  },
  {
   "cell_type": "code",
   "execution_count": 77,
   "id": "6c91f192",
   "metadata": {},
   "outputs": [
    {
     "data": {
      "text/plain": [
       "array([[842,   1],\n",
       "       [  0, 782]], dtype=int64)"
      ]
     },
     "execution_count": 77,
     "metadata": {},
     "output_type": "execute_result"
    }
   ],
   "source": [
    "confusion_matrix(y_test,y_pred)"
   ]
  },
  {
   "cell_type": "markdown",
   "id": "b79b471a",
   "metadata": {},
   "source": [
    "## Decision Tree Classification"
   ]
  },
  {
   "cell_type": "code",
   "execution_count": 78,
   "id": "eda81fc7",
   "metadata": {},
   "outputs": [],
   "source": [
    "from sklearn.tree import DecisionTreeClassifier\n",
    "\n",
    "dt_model=DecisionTreeClassifier()\n",
    "dt_model.fit(x_train,y_train)\n",
    "\n",
    "y_pred = dt_model.predict(x_test)"
   ]
  },
  {
   "cell_type": "code",
   "execution_count": 79,
   "id": "23fc82ac",
   "metadata": {},
   "outputs": [
    {
     "name": "stdout",
     "output_type": "stream",
     "text": [
      "accuracy is : 1.0\n",
      "F1 - score : 1.0\n"
     ]
    }
   ],
   "source": [
    "print(\"accuracy is :\",accuracy_score(y_test,y_pred))\n",
    "print(\"F1 - score :\",f1_score(y_test,y_pred))\n",
    "accl.append(['DecisionTreeClassifier',round(accuracy_score(y_test,y_pred),2)])"
   ]
  },
  {
   "cell_type": "markdown",
   "id": "be045ff2",
   "metadata": {},
   "source": [
    "## Gradient Booster"
   ]
  },
  {
   "cell_type": "code",
   "execution_count": 80,
   "id": "158b93e7",
   "metadata": {},
   "outputs": [],
   "source": [
    "from sklearn.ensemble import GradientBoostingClassifier\n",
    "gm=GradientBoostingClassifier()\n",
    "gm.fit(x_train,y_train)\n",
    "\n",
    "y_pred=gm.predict(x_test)"
   ]
  },
  {
   "cell_type": "code",
   "execution_count": 81,
   "id": "3c33de4f",
   "metadata": {},
   "outputs": [
    {
     "name": "stdout",
     "output_type": "stream",
     "text": [
      "accuracy is : 1.0\n",
      "F1 - score : 1.0\n"
     ]
    }
   ],
   "source": [
    "print(\"accuracy is :\",accuracy_score(y_test,y_pred))\n",
    "print(\"F1 - score :\",f1_score(y_test,y_pred))\n",
    "accl.append(['Gradient Boosting Classifier',round(accuracy_score(y_test,y_pred),2)])"
   ]
  },
  {
   "cell_type": "markdown",
   "id": "4f28552e",
   "metadata": {},
   "source": [
    "## Gaussian Naive Bayes"
   ]
  },
  {
   "cell_type": "code",
   "execution_count": 82,
   "id": "e39bbe56",
   "metadata": {},
   "outputs": [
    {
     "data": {
      "text/plain": [
       "GaussianNB()"
      ]
     },
     "execution_count": 82,
     "metadata": {},
     "output_type": "execute_result"
    }
   ],
   "source": [
    "from sklearn.naive_bayes import GaussianNB\n",
    "classifier=GaussianNB()\n",
    "classifier.fit(x_train,y_train)"
   ]
  },
  {
   "cell_type": "code",
   "execution_count": 83,
   "id": "1a890a2b",
   "metadata": {},
   "outputs": [],
   "source": [
    "y_pred=classifier.predict(x_test)"
   ]
  },
  {
   "cell_type": "code",
   "execution_count": 84,
   "id": "09fdb119",
   "metadata": {},
   "outputs": [
    {
     "name": "stdout",
     "output_type": "stream",
     "text": [
      "0.9027692307692308\n",
      "F1 - score : 0.8993630573248407\n"
     ]
    },
    {
     "data": {
      "text/plain": [
       "array([[761,  82],\n",
       "       [ 76, 706]], dtype=int64)"
      ]
     },
     "execution_count": 84,
     "metadata": {},
     "output_type": "execute_result"
    }
   ],
   "source": [
    "from sklearn.metrics import confusion_matrix,accuracy_score\n",
    "cm=confusion_matrix(y_test,y_pred)\n",
    "print(accuracy_score(y_test,y_pred))\n",
    "print(\"F1 - score :\",f1_score(y_test,y_pred))\n",
    "accl.append(['Gaussian Naive Bayes',round(accuracy_score(y_test,y_pred),2)])\n",
    "cm"
   ]
  },
  {
   "cell_type": "markdown",
   "id": "ab5c66cb",
   "metadata": {},
   "source": [
    "## Bernoulli Naive Bayes"
   ]
  },
  {
   "cell_type": "code",
   "execution_count": 85,
   "id": "4b941e36",
   "metadata": {},
   "outputs": [],
   "source": [
    "from sklearn.naive_bayes import BernoulliNB\n",
    "classifier2=BernoulliNB()\n",
    "classifier2.fit(x_train,y_train)\n",
    "y_pred=classifier2.predict(x_test)"
   ]
  },
  {
   "cell_type": "code",
   "execution_count": 86,
   "id": "75ec21ba",
   "metadata": {},
   "outputs": [
    {
     "name": "stdout",
     "output_type": "stream",
     "text": [
      "0.8424615384615385\n",
      "F1 - score : 0.817923186344239\n"
     ]
    },
    {
     "data": {
      "text/plain": [
       "array([[794,  49],\n",
       "       [207, 575]], dtype=int64)"
      ]
     },
     "execution_count": 86,
     "metadata": {},
     "output_type": "execute_result"
    }
   ],
   "source": [
    "cm2=confusion_matrix(y_test,y_pred)\n",
    "print(accuracy_score(y_test,y_pred))\n",
    "print(\"F1 - score :\",f1_score(y_test,y_pred))\n",
    "accl.append(['Bernoulli Naive Bayes',round(accuracy_score(y_test,y_pred),2)])\n",
    "cm2"
   ]
  },
  {
   "cell_type": "markdown",
   "id": "6cd7d60f",
   "metadata": {},
   "source": [
    "## Radial SVM"
   ]
  },
  {
   "cell_type": "code",
   "execution_count": 87,
   "id": "2d4fe762",
   "metadata": {},
   "outputs": [],
   "source": [
    "from sklearn.svm import SVC\n",
    "svm_radial=SVC(kernel='rbf')\n",
    "svm_radial.fit(x_train,y_train)\n",
    "y_pred=svm_radial.predict(x_test)"
   ]
  },
  {
   "cell_type": "code",
   "execution_count": 88,
   "id": "a83b0a7d",
   "metadata": {},
   "outputs": [
    {
     "name": "stdout",
     "output_type": "stream",
     "text": [
      "0.9913846153846154\n",
      "F1 - score : 0.9910025706940874\n"
     ]
    },
    {
     "data": {
      "text/plain": [
       "array([[840,   3],\n",
       "       [ 11, 771]], dtype=int64)"
      ]
     },
     "execution_count": 88,
     "metadata": {},
     "output_type": "execute_result"
    }
   ],
   "source": [
    "cm2=confusion_matrix(y_test,y_pred)\n",
    "print(accuracy_score(y_test,y_pred))\n",
    "print(\"F1 - score :\",f1_score(y_test,y_pred))\n",
    "accl.append(['Radial SVM',round(accuracy_score(y_test,y_pred),2)])\n",
    "cm2"
   ]
  },
  {
   "cell_type": "markdown",
   "id": "40f67628",
   "metadata": {},
   "source": [
    "## Polynomial SVM"
   ]
  },
  {
   "cell_type": "code",
   "execution_count": 89,
   "id": "96de3390",
   "metadata": {},
   "outputs": [],
   "source": [
    "from sklearn.svm import SVC\n",
    "svm_poly=SVC(kernel='poly',degree=3)\n",
    "svm_poly.fit(x_train,y_train)\n",
    "y_pred=svm_poly.predict(x_test)"
   ]
  },
  {
   "cell_type": "code",
   "execution_count": 90,
   "id": "5aa53529",
   "metadata": {},
   "outputs": [
    {
     "name": "stdout",
     "output_type": "stream",
     "text": [
      "0.9993846153846154\n",
      "F1 - score : 0.999360204734485\n"
     ]
    }
   ],
   "source": [
    "print(accuracy_score(y_test,y_pred))\n",
    "print(\"F1 - score :\",f1_score(y_test,y_pred))\n",
    "accl.append(['polynomial SVM',round(accuracy_score(y_test,y_pred),2)])"
   ]
  },
  {
   "cell_type": "markdown",
   "id": "ce190c90",
   "metadata": {},
   "source": [
    "## Linear SVM"
   ]
  },
  {
   "cell_type": "code",
   "execution_count": 91,
   "id": "689f805d",
   "metadata": {},
   "outputs": [],
   "source": [
    "from sklearn.svm import SVC\n",
    "svm_linear=SVC(kernel='linear')\n",
    "svm_linear.fit(x_train,y_train)\n",
    "y_pred=svm_linear.predict(x_test)"
   ]
  },
  {
   "cell_type": "code",
   "execution_count": 92,
   "id": "871fd3cc",
   "metadata": {},
   "outputs": [
    {
     "name": "stdout",
     "output_type": "stream",
     "text": [
      "0.976\n",
      "F1 - score : 0.9751750477402928\n"
     ]
    }
   ],
   "source": [
    "from sklearn.svm import SVC\n",
    "svm_linear=SVC(kernel='linear')\n",
    "svm_linear.fit(x_train,y_train)\n",
    "y_pred=svm_linear.predict(x_test)\n",
    "print(accuracy_score(y_test,y_pred))\n",
    "print(\"F1 - score :\",f1_score(y_test,y_pred))\n",
    "accl.append(['Linear SVM',round(accuracy_score(y_test,y_pred),2)])"
   ]
  },
  {
   "cell_type": "code",
   "execution_count": 93,
   "id": "313dd7d7",
   "metadata": {},
   "outputs": [],
   "source": [
    "df=pd.DataFrame(accl, columns =['Algorithms', 'Accuracy'])"
   ]
  },
  {
   "cell_type": "code",
   "execution_count": 94,
   "id": "469095ce",
   "metadata": {},
   "outputs": [
    {
     "data": {
      "text/html": [
       "<div>\n",
       "<style scoped>\n",
       "    .dataframe tbody tr th:only-of-type {\n",
       "        vertical-align: middle;\n",
       "    }\n",
       "\n",
       "    .dataframe tbody tr th {\n",
       "        vertical-align: top;\n",
       "    }\n",
       "\n",
       "    .dataframe thead th {\n",
       "        text-align: right;\n",
       "    }\n",
       "</style>\n",
       "<table border=\"1\" class=\"dataframe\">\n",
       "  <thead>\n",
       "    <tr style=\"text-align: right;\">\n",
       "      <th></th>\n",
       "      <th>Algorithms</th>\n",
       "      <th>Accuracy</th>\n",
       "    </tr>\n",
       "  </thead>\n",
       "  <tbody>\n",
       "    <tr>\n",
       "      <th>1</th>\n",
       "      <td>KNN</td>\n",
       "      <td>1.00</td>\n",
       "    </tr>\n",
       "    <tr>\n",
       "      <th>2</th>\n",
       "      <td>DecisionTreeClassifier</td>\n",
       "      <td>1.00</td>\n",
       "    </tr>\n",
       "    <tr>\n",
       "      <th>3</th>\n",
       "      <td>Gradient Boosting Classifier</td>\n",
       "      <td>1.00</td>\n",
       "    </tr>\n",
       "    <tr>\n",
       "      <th>7</th>\n",
       "      <td>polynomial SVM</td>\n",
       "      <td>1.00</td>\n",
       "    </tr>\n",
       "    <tr>\n",
       "      <th>6</th>\n",
       "      <td>Radial SVM</td>\n",
       "      <td>0.99</td>\n",
       "    </tr>\n",
       "    <tr>\n",
       "      <th>8</th>\n",
       "      <td>Linear SVM</td>\n",
       "      <td>0.98</td>\n",
       "    </tr>\n",
       "    <tr>\n",
       "      <th>0</th>\n",
       "      <td>Logistic Regression</td>\n",
       "      <td>0.95</td>\n",
       "    </tr>\n",
       "    <tr>\n",
       "      <th>4</th>\n",
       "      <td>Gaussian Naive Bayes</td>\n",
       "      <td>0.90</td>\n",
       "    </tr>\n",
       "    <tr>\n",
       "      <th>5</th>\n",
       "      <td>Bernoulli Naive Bayes</td>\n",
       "      <td>0.84</td>\n",
       "    </tr>\n",
       "  </tbody>\n",
       "</table>\n",
       "</div>"
      ],
      "text/plain": [
       "                     Algorithms  Accuracy\n",
       "1                           KNN      1.00\n",
       "2        DecisionTreeClassifier      1.00\n",
       "3  Gradient Boosting Classifier      1.00\n",
       "7                polynomial SVM      1.00\n",
       "6                    Radial SVM      0.99\n",
       "8                    Linear SVM      0.98\n",
       "0           Logistic Regression      0.95\n",
       "4          Gaussian Naive Bayes      0.90\n",
       "5         Bernoulli Naive Bayes      0.84"
      ]
     },
     "execution_count": 94,
     "metadata": {},
     "output_type": "execute_result"
    }
   ],
   "source": [
    "df.sort_values(by='Accuracy',ascending=False)"
   ]
  },
  {
   "cell_type": "markdown",
   "id": "ab424cfd",
   "metadata": {},
   "source": [
    "__Conclusion__\n",
    "\n",
    "On testing various algorithms for classifying the whether the mushrooms were edible or poisonous using the given dataset, we found that most of the classification methods hit 100% accuracy with this dataset.So our final model can be made by any of these algorithms."
   ]
  },
  {
   "cell_type": "code",
   "execution_count": null,
   "id": "92d61dcf",
   "metadata": {},
   "outputs": [],
   "source": []
  }
 ],
 "metadata": {
  "kernelspec": {
   "display_name": "Python 3",
   "language": "python",
   "name": "python3"
  },
  "language_info": {
   "codemirror_mode": {
    "name": "ipython",
    "version": 3
   },
   "file_extension": ".py",
   "mimetype": "text/x-python",
   "name": "python",
   "nbconvert_exporter": "python",
   "pygments_lexer": "ipython3",
   "version": "3.8.8"
  }
 },
 "nbformat": 4,
 "nbformat_minor": 5
}
